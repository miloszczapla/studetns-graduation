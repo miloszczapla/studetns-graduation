{
 "cells": [
  {
   "cell_type": "code",
   "execution_count": 1,
   "id": "719c8b82",
   "metadata": {
    "execution": {
     "iopub.execute_input": "2023-09-04T17:51:21.890390Z",
     "iopub.status.busy": "2023-09-04T17:51:21.889776Z",
     "iopub.status.idle": "2023-09-04T17:52:59.469162Z",
     "shell.execute_reply": "2023-09-04T17:52:59.464609Z"
    },
    "papermill": {
     "duration": 97.595711,
     "end_time": "2023-09-04T17:52:59.474618",
     "exception": false,
     "start_time": "2023-09-04T17:51:21.878907",
     "status": "completed"
    },
    "tags": []
   },
   "outputs": [
    {
     "name": "stdout",
     "output_type": "stream",
     "text": [
      "Requirement already satisfied: tensorflow in /opt/conda/lib/python3.10/site-packages (2.12.0)\r\n",
      "Collecting tensorflow\r\n",
      "  Downloading tensorflow-2.13.0-cp310-cp310-manylinux_2_17_x86_64.manylinux2014_x86_64.whl (524.1 MB)\r\n",
      "\u001b[2K     \u001b[90m━━━━━━━━━━━━━━━━━━━━━━━━━━━━━━━━━━━━━━━\u001b[0m \u001b[32m524.1/524.1 MB\u001b[0m \u001b[31m2.1 MB/s\u001b[0m eta \u001b[36m0:00:00\u001b[0m\r\n",
      "\u001b[?25hRequirement already satisfied: absl-py>=1.0.0 in /opt/conda/lib/python3.10/site-packages (from tensorflow) (1.4.0)\r\n",
      "Requirement already satisfied: astunparse>=1.6.0 in /opt/conda/lib/python3.10/site-packages (from tensorflow) (1.6.3)\r\n",
      "Requirement already satisfied: flatbuffers>=23.1.21 in /opt/conda/lib/python3.10/site-packages (from tensorflow) (23.5.26)\r\n",
      "Requirement already satisfied: gast<=0.4.0,>=0.2.1 in /opt/conda/lib/python3.10/site-packages (from tensorflow) (0.4.0)\r\n",
      "Requirement already satisfied: google-pasta>=0.1.1 in /opt/conda/lib/python3.10/site-packages (from tensorflow) (0.2.0)\r\n",
      "Requirement already satisfied: grpcio<2.0,>=1.24.3 in /opt/conda/lib/python3.10/site-packages (from tensorflow) (1.51.3)\r\n",
      "Requirement already satisfied: h5py>=2.9.0 in /opt/conda/lib/python3.10/site-packages (from tensorflow) (3.9.0)\r\n",
      "Collecting keras<2.14,>=2.13.1 (from tensorflow)\r\n",
      "  Downloading keras-2.13.1-py3-none-any.whl (1.7 MB)\r\n",
      "\u001b[2K     \u001b[90m━━━━━━━━━━━━━━━━━━━━━━━━━━━━━━━━━━━━━━━━\u001b[0m \u001b[32m1.7/1.7 MB\u001b[0m \u001b[31m55.3 MB/s\u001b[0m eta \u001b[36m0:00:00\u001b[0m\r\n",
      "\u001b[?25hRequirement already satisfied: libclang>=13.0.0 in /opt/conda/lib/python3.10/site-packages (from tensorflow) (16.0.0)\r\n",
      "Requirement already satisfied: numpy<=1.24.3,>=1.22 in /opt/conda/lib/python3.10/site-packages (from tensorflow) (1.23.5)\r\n",
      "Requirement already satisfied: opt-einsum>=2.3.2 in /opt/conda/lib/python3.10/site-packages (from tensorflow) (3.3.0)\r\n",
      "Requirement already satisfied: packaging in /opt/conda/lib/python3.10/site-packages (from tensorflow) (21.3)\r\n",
      "Requirement already satisfied: protobuf!=4.21.0,!=4.21.1,!=4.21.2,!=4.21.3,!=4.21.4,!=4.21.5,<5.0.0dev,>=3.20.3 in /opt/conda/lib/python3.10/site-packages (from tensorflow) (3.20.3)\r\n",
      "Requirement already satisfied: setuptools in /opt/conda/lib/python3.10/site-packages (from tensorflow) (68.0.0)\r\n",
      "Requirement already satisfied: six>=1.12.0 in /opt/conda/lib/python3.10/site-packages (from tensorflow) (1.16.0)\r\n",
      "Collecting tensorboard<2.14,>=2.13 (from tensorflow)\r\n",
      "  Downloading tensorboard-2.13.0-py3-none-any.whl (5.6 MB)\r\n",
      "\u001b[2K     \u001b[90m━━━━━━━━━━━━━━━━━━━━━━━━━━━━━━━━━━━━━━━━\u001b[0m \u001b[32m5.6/5.6 MB\u001b[0m \u001b[31m68.7 MB/s\u001b[0m eta \u001b[36m0:00:00\u001b[0m\r\n",
      "\u001b[?25hCollecting tensorflow-estimator<2.14,>=2.13.0 (from tensorflow)\r\n",
      "  Downloading tensorflow_estimator-2.13.0-py2.py3-none-any.whl (440 kB)\r\n",
      "\u001b[2K     \u001b[90m━━━━━━━━━━━━━━━━━━━━━━━━━━━━━━━━━━━━━━\u001b[0m \u001b[32m440.8/440.8 kB\u001b[0m \u001b[31m27.1 MB/s\u001b[0m eta \u001b[36m0:00:00\u001b[0m\r\n",
      "\u001b[?25hRequirement already satisfied: termcolor>=1.1.0 in /opt/conda/lib/python3.10/site-packages (from tensorflow) (2.3.0)\r\n",
      "Collecting typing-extensions<4.6.0,>=3.6.6 (from tensorflow)\r\n",
      "  Downloading typing_extensions-4.5.0-py3-none-any.whl (27 kB)\r\n",
      "Requirement already satisfied: wrapt>=1.11.0 in /opt/conda/lib/python3.10/site-packages (from tensorflow) (1.14.1)\r\n",
      "Requirement already satisfied: tensorflow-io-gcs-filesystem>=0.23.1 in /opt/conda/lib/python3.10/site-packages (from tensorflow) (0.32.0)\r\n",
      "Requirement already satisfied: wheel<1.0,>=0.23.0 in /opt/conda/lib/python3.10/site-packages (from astunparse>=1.6.0->tensorflow) (0.40.0)\r\n",
      "Requirement already satisfied: google-auth<3,>=1.6.3 in /opt/conda/lib/python3.10/site-packages (from tensorboard<2.14,>=2.13->tensorflow) (2.20.0)\r\n",
      "Requirement already satisfied: google-auth-oauthlib<1.1,>=0.5 in /opt/conda/lib/python3.10/site-packages (from tensorboard<2.14,>=2.13->tensorflow) (1.0.0)\r\n",
      "Requirement already satisfied: markdown>=2.6.8 in /opt/conda/lib/python3.10/site-packages (from tensorboard<2.14,>=2.13->tensorflow) (3.4.3)\r\n",
      "Requirement already satisfied: requests<3,>=2.21.0 in /opt/conda/lib/python3.10/site-packages (from tensorboard<2.14,>=2.13->tensorflow) (2.31.0)\r\n",
      "Requirement already satisfied: tensorboard-data-server<0.8.0,>=0.7.0 in /opt/conda/lib/python3.10/site-packages (from tensorboard<2.14,>=2.13->tensorflow) (0.7.1)\r\n",
      "Requirement already satisfied: werkzeug>=1.0.1 in /opt/conda/lib/python3.10/site-packages (from tensorboard<2.14,>=2.13->tensorflow) (2.3.7)\r\n",
      "Requirement already satisfied: pyparsing!=3.0.5,>=2.0.2 in /opt/conda/lib/python3.10/site-packages (from packaging->tensorflow) (3.0.9)\r\n",
      "Requirement already satisfied: cachetools<6.0,>=2.0.0 in /opt/conda/lib/python3.10/site-packages (from google-auth<3,>=1.6.3->tensorboard<2.14,>=2.13->tensorflow) (4.2.4)\r\n",
      "Requirement already satisfied: pyasn1-modules>=0.2.1 in /opt/conda/lib/python3.10/site-packages (from google-auth<3,>=1.6.3->tensorboard<2.14,>=2.13->tensorflow) (0.2.7)\r\n",
      "Requirement already satisfied: rsa<5,>=3.1.4 in /opt/conda/lib/python3.10/site-packages (from google-auth<3,>=1.6.3->tensorboard<2.14,>=2.13->tensorflow) (4.9)\r\n",
      "Requirement already satisfied: urllib3<2.0 in /opt/conda/lib/python3.10/site-packages (from google-auth<3,>=1.6.3->tensorboard<2.14,>=2.13->tensorflow) (1.26.15)\r\n",
      "Requirement already satisfied: requests-oauthlib>=0.7.0 in /opt/conda/lib/python3.10/site-packages (from google-auth-oauthlib<1.1,>=0.5->tensorboard<2.14,>=2.13->tensorflow) (1.3.1)\r\n",
      "Requirement already satisfied: charset-normalizer<4,>=2 in /opt/conda/lib/python3.10/site-packages (from requests<3,>=2.21.0->tensorboard<2.14,>=2.13->tensorflow) (3.1.0)\r\n",
      "Requirement already satisfied: idna<4,>=2.5 in /opt/conda/lib/python3.10/site-packages (from requests<3,>=2.21.0->tensorboard<2.14,>=2.13->tensorflow) (3.4)\r\n",
      "Requirement already satisfied: certifi>=2017.4.17 in /opt/conda/lib/python3.10/site-packages (from requests<3,>=2.21.0->tensorboard<2.14,>=2.13->tensorflow) (2023.7.22)\r\n",
      "Requirement already satisfied: MarkupSafe>=2.1.1 in /opt/conda/lib/python3.10/site-packages (from werkzeug>=1.0.1->tensorboard<2.14,>=2.13->tensorflow) (2.1.3)\r\n",
      "Requirement already satisfied: pyasn1<0.5.0,>=0.4.6 in /opt/conda/lib/python3.10/site-packages (from pyasn1-modules>=0.2.1->google-auth<3,>=1.6.3->tensorboard<2.14,>=2.13->tensorflow) (0.4.8)\r\n",
      "Requirement already satisfied: oauthlib>=3.0.0 in /opt/conda/lib/python3.10/site-packages (from requests-oauthlib>=0.7.0->google-auth-oauthlib<1.1,>=0.5->tensorboard<2.14,>=2.13->tensorflow) (3.2.2)\r\n",
      "Installing collected packages: typing-extensions, tensorflow-estimator, keras, tensorboard, tensorflow\r\n",
      "  Attempting uninstall: typing-extensions\r\n",
      "    Found existing installation: typing_extensions 4.6.3\r\n",
      "    Uninstalling typing_extensions-4.6.3:\r\n",
      "      Successfully uninstalled typing_extensions-4.6.3\r\n",
      "  Attempting uninstall: tensorflow-estimator\r\n",
      "    Found existing installation: tensorflow-estimator 2.12.0\r\n",
      "    Uninstalling tensorflow-estimator-2.12.0:\r\n",
      "      Successfully uninstalled tensorflow-estimator-2.12.0\r\n",
      "  Attempting uninstall: keras\r\n",
      "    Found existing installation: keras 2.12.0\r\n",
      "    Uninstalling keras-2.12.0:\r\n",
      "      Successfully uninstalled keras-2.12.0\r\n",
      "  Attempting uninstall: tensorboard\r\n",
      "    Found existing installation: tensorboard 2.12.3\r\n",
      "    Uninstalling tensorboard-2.12.3:\r\n",
      "      Successfully uninstalled tensorboard-2.12.3\r\n",
      "  Attempting uninstall: tensorflow\r\n",
      "    Found existing installation: tensorflow 2.12.0\r\n",
      "    Uninstalling tensorflow-2.12.0:\r\n",
      "      Successfully uninstalled tensorflow-2.12.0\r\n",
      "\u001b[31mERROR: pip's dependency resolver does not currently take into account all the packages that are installed. This behaviour is the source of the following dependency conflicts.\r\n",
      "apache-beam 2.46.0 requires dill<0.3.2,>=0.3.1.1, but you have dill 0.3.7 which is incompatible.\r\n",
      "chex 0.1.82 requires numpy>=1.25.0, but you have numpy 1.23.5 which is incompatible.\r\n",
      "pymc3 3.11.5 requires numpy<1.22.2,>=1.15.0, but you have numpy 1.23.5 which is incompatible.\r\n",
      "pymc3 3.11.5 requires scipy<1.8.0,>=1.7.3, but you have scipy 1.11.2 which is incompatible.\r\n",
      "tensorflow-decision-forests 1.4.0 requires tensorflow~=2.12.0, but you have tensorflow 2.13.0 which is incompatible.\r\n",
      "tensorflow-text 2.12.1 requires tensorflow<2.13,>=2.12.0; platform_machine != \"arm64\" or platform_system != \"Darwin\", but you have tensorflow 2.13.0 which is incompatible.\r\n",
      "ydata-profiling 4.3.1 requires scipy<1.11,>=1.4.1, but you have scipy 1.11.2 which is incompatible.\u001b[0m\u001b[31m\r\n",
      "\u001b[0mSuccessfully installed keras-2.13.1 tensorboard-2.13.0 tensorflow-2.13.0 tensorflow-estimator-2.13.0 typing-extensions-4.5.0\r\n"
     ]
    }
   ],
   "source": [
    "!pip install --upgrade tensorflow"
   ]
  },
  {
   "cell_type": "code",
   "execution_count": 2,
   "id": "7cda1c5b",
   "metadata": {
    "execution": {
     "iopub.execute_input": "2023-09-04T17:52:59.570942Z",
     "iopub.status.busy": "2023-09-04T17:52:59.569978Z",
     "iopub.status.idle": "2023-09-04T17:53:07.551282Z",
     "shell.execute_reply": "2023-09-04T17:53:07.545452Z"
    },
    "papermill": {
     "duration": 8.02827,
     "end_time": "2023-09-04T17:53:07.559258",
     "exception": false,
     "start_time": "2023-09-04T17:52:59.530988",
     "status": "completed"
    },
    "tags": []
   },
   "outputs": [],
   "source": [
    "import tensorflow as tf\n",
    "import pandas as pd\n",
    "import numpy as np"
   ]
  },
  {
   "cell_type": "code",
   "execution_count": 3,
   "id": "d530021f",
   "metadata": {
    "execution": {
     "iopub.execute_input": "2023-09-04T17:53:07.633423Z",
     "iopub.status.busy": "2023-09-04T17:53:07.632636Z",
     "iopub.status.idle": "2023-09-04T17:53:07.721200Z",
     "shell.execute_reply": "2023-09-04T17:53:07.719891Z"
    },
    "papermill": {
     "duration": 0.125333,
     "end_time": "2023-09-04T17:53:07.724469",
     "exception": false,
     "start_time": "2023-09-04T17:53:07.599136",
     "status": "completed"
    },
    "tags": []
   },
   "outputs": [],
   "source": [
    "data = pd.read_csv(\"/kaggle/input/student-graduation-dataset/graduation_dataset.csv\")"
   ]
  },
  {
   "cell_type": "code",
   "execution_count": 4,
   "id": "44ab0d3d",
   "metadata": {
    "execution": {
     "iopub.execute_input": "2023-09-04T17:53:07.784016Z",
     "iopub.status.busy": "2023-09-04T17:53:07.783558Z",
     "iopub.status.idle": "2023-09-04T17:53:07.833477Z",
     "shell.execute_reply": "2023-09-04T17:53:07.831913Z"
    },
    "papermill": {
     "duration": 0.085859,
     "end_time": "2023-09-04T17:53:07.838795",
     "exception": false,
     "start_time": "2023-09-04T17:53:07.752936",
     "status": "completed"
    },
    "tags": []
   },
   "outputs": [
    {
     "data": {
      "text/html": [
       "<div>\n",
       "<style scoped>\n",
       "    .dataframe tbody tr th:only-of-type {\n",
       "        vertical-align: middle;\n",
       "    }\n",
       "\n",
       "    .dataframe tbody tr th {\n",
       "        vertical-align: top;\n",
       "    }\n",
       "\n",
       "    .dataframe thead th {\n",
       "        text-align: right;\n",
       "    }\n",
       "</style>\n",
       "<table border=\"1\" class=\"dataframe\">\n",
       "  <thead>\n",
       "    <tr style=\"text-align: right;\">\n",
       "      <th></th>\n",
       "      <th>Marital status</th>\n",
       "      <th>Application mode</th>\n",
       "      <th>Application order</th>\n",
       "      <th>Course</th>\n",
       "      <th>Daytime/evening attendance</th>\n",
       "      <th>Previous qualification</th>\n",
       "      <th>Nacionality</th>\n",
       "      <th>Mother's qualification</th>\n",
       "      <th>Father's qualification</th>\n",
       "      <th>Mother's occupation</th>\n",
       "      <th>...</th>\n",
       "      <th>Curricular units 2nd sem (credited)</th>\n",
       "      <th>Curricular units 2nd sem (enrolled)</th>\n",
       "      <th>Curricular units 2nd sem (evaluations)</th>\n",
       "      <th>Curricular units 2nd sem (approved)</th>\n",
       "      <th>Curricular units 2nd sem (grade)</th>\n",
       "      <th>Curricular units 2nd sem (without evaluations)</th>\n",
       "      <th>Unemployment rate</th>\n",
       "      <th>Inflation rate</th>\n",
       "      <th>GDP</th>\n",
       "      <th>Target</th>\n",
       "    </tr>\n",
       "  </thead>\n",
       "  <tbody>\n",
       "    <tr>\n",
       "      <th>0</th>\n",
       "      <td>1</td>\n",
       "      <td>8</td>\n",
       "      <td>5</td>\n",
       "      <td>2</td>\n",
       "      <td>1</td>\n",
       "      <td>1</td>\n",
       "      <td>1</td>\n",
       "      <td>13</td>\n",
       "      <td>10</td>\n",
       "      <td>6</td>\n",
       "      <td>...</td>\n",
       "      <td>0</td>\n",
       "      <td>0</td>\n",
       "      <td>0</td>\n",
       "      <td>0</td>\n",
       "      <td>0.000000</td>\n",
       "      <td>0</td>\n",
       "      <td>10.8</td>\n",
       "      <td>1.4</td>\n",
       "      <td>1.74</td>\n",
       "      <td>Dropout</td>\n",
       "    </tr>\n",
       "    <tr>\n",
       "      <th>1</th>\n",
       "      <td>1</td>\n",
       "      <td>6</td>\n",
       "      <td>1</td>\n",
       "      <td>11</td>\n",
       "      <td>1</td>\n",
       "      <td>1</td>\n",
       "      <td>1</td>\n",
       "      <td>1</td>\n",
       "      <td>3</td>\n",
       "      <td>4</td>\n",
       "      <td>...</td>\n",
       "      <td>0</td>\n",
       "      <td>6</td>\n",
       "      <td>6</td>\n",
       "      <td>6</td>\n",
       "      <td>13.666667</td>\n",
       "      <td>0</td>\n",
       "      <td>13.9</td>\n",
       "      <td>-0.3</td>\n",
       "      <td>0.79</td>\n",
       "      <td>Graduate</td>\n",
       "    </tr>\n",
       "    <tr>\n",
       "      <th>2</th>\n",
       "      <td>1</td>\n",
       "      <td>1</td>\n",
       "      <td>5</td>\n",
       "      <td>5</td>\n",
       "      <td>1</td>\n",
       "      <td>1</td>\n",
       "      <td>1</td>\n",
       "      <td>22</td>\n",
       "      <td>27</td>\n",
       "      <td>10</td>\n",
       "      <td>...</td>\n",
       "      <td>0</td>\n",
       "      <td>6</td>\n",
       "      <td>0</td>\n",
       "      <td>0</td>\n",
       "      <td>0.000000</td>\n",
       "      <td>0</td>\n",
       "      <td>10.8</td>\n",
       "      <td>1.4</td>\n",
       "      <td>1.74</td>\n",
       "      <td>Dropout</td>\n",
       "    </tr>\n",
       "    <tr>\n",
       "      <th>3</th>\n",
       "      <td>1</td>\n",
       "      <td>8</td>\n",
       "      <td>2</td>\n",
       "      <td>15</td>\n",
       "      <td>1</td>\n",
       "      <td>1</td>\n",
       "      <td>1</td>\n",
       "      <td>23</td>\n",
       "      <td>27</td>\n",
       "      <td>6</td>\n",
       "      <td>...</td>\n",
       "      <td>0</td>\n",
       "      <td>6</td>\n",
       "      <td>10</td>\n",
       "      <td>5</td>\n",
       "      <td>12.400000</td>\n",
       "      <td>0</td>\n",
       "      <td>9.4</td>\n",
       "      <td>-0.8</td>\n",
       "      <td>-3.12</td>\n",
       "      <td>Graduate</td>\n",
       "    </tr>\n",
       "    <tr>\n",
       "      <th>4</th>\n",
       "      <td>2</td>\n",
       "      <td>12</td>\n",
       "      <td>1</td>\n",
       "      <td>3</td>\n",
       "      <td>0</td>\n",
       "      <td>1</td>\n",
       "      <td>1</td>\n",
       "      <td>22</td>\n",
       "      <td>28</td>\n",
       "      <td>10</td>\n",
       "      <td>...</td>\n",
       "      <td>0</td>\n",
       "      <td>6</td>\n",
       "      <td>6</td>\n",
       "      <td>6</td>\n",
       "      <td>13.000000</td>\n",
       "      <td>0</td>\n",
       "      <td>13.9</td>\n",
       "      <td>-0.3</td>\n",
       "      <td>0.79</td>\n",
       "      <td>Graduate</td>\n",
       "    </tr>\n",
       "    <tr>\n",
       "      <th>5</th>\n",
       "      <td>2</td>\n",
       "      <td>12</td>\n",
       "      <td>1</td>\n",
       "      <td>17</td>\n",
       "      <td>0</td>\n",
       "      <td>12</td>\n",
       "      <td>1</td>\n",
       "      <td>22</td>\n",
       "      <td>27</td>\n",
       "      <td>10</td>\n",
       "      <td>...</td>\n",
       "      <td>0</td>\n",
       "      <td>5</td>\n",
       "      <td>17</td>\n",
       "      <td>5</td>\n",
       "      <td>11.500000</td>\n",
       "      <td>5</td>\n",
       "      <td>16.2</td>\n",
       "      <td>0.3</td>\n",
       "      <td>-0.92</td>\n",
       "      <td>Graduate</td>\n",
       "    </tr>\n",
       "    <tr>\n",
       "      <th>6</th>\n",
       "      <td>1</td>\n",
       "      <td>1</td>\n",
       "      <td>1</td>\n",
       "      <td>12</td>\n",
       "      <td>1</td>\n",
       "      <td>1</td>\n",
       "      <td>1</td>\n",
       "      <td>13</td>\n",
       "      <td>28</td>\n",
       "      <td>8</td>\n",
       "      <td>...</td>\n",
       "      <td>0</td>\n",
       "      <td>8</td>\n",
       "      <td>8</td>\n",
       "      <td>8</td>\n",
       "      <td>14.345000</td>\n",
       "      <td>0</td>\n",
       "      <td>15.5</td>\n",
       "      <td>2.8</td>\n",
       "      <td>-4.06</td>\n",
       "      <td>Graduate</td>\n",
       "    </tr>\n",
       "    <tr>\n",
       "      <th>7</th>\n",
       "      <td>1</td>\n",
       "      <td>9</td>\n",
       "      <td>4</td>\n",
       "      <td>11</td>\n",
       "      <td>1</td>\n",
       "      <td>1</td>\n",
       "      <td>1</td>\n",
       "      <td>22</td>\n",
       "      <td>27</td>\n",
       "      <td>10</td>\n",
       "      <td>...</td>\n",
       "      <td>0</td>\n",
       "      <td>5</td>\n",
       "      <td>5</td>\n",
       "      <td>0</td>\n",
       "      <td>0.000000</td>\n",
       "      <td>0</td>\n",
       "      <td>15.5</td>\n",
       "      <td>2.8</td>\n",
       "      <td>-4.06</td>\n",
       "      <td>Dropout</td>\n",
       "    </tr>\n",
       "    <tr>\n",
       "      <th>8</th>\n",
       "      <td>1</td>\n",
       "      <td>1</td>\n",
       "      <td>3</td>\n",
       "      <td>10</td>\n",
       "      <td>1</td>\n",
       "      <td>1</td>\n",
       "      <td>15</td>\n",
       "      <td>1</td>\n",
       "      <td>1</td>\n",
       "      <td>10</td>\n",
       "      <td>...</td>\n",
       "      <td>0</td>\n",
       "      <td>6</td>\n",
       "      <td>7</td>\n",
       "      <td>6</td>\n",
       "      <td>14.142857</td>\n",
       "      <td>0</td>\n",
       "      <td>16.2</td>\n",
       "      <td>0.3</td>\n",
       "      <td>-0.92</td>\n",
       "      <td>Graduate</td>\n",
       "    </tr>\n",
       "    <tr>\n",
       "      <th>9</th>\n",
       "      <td>1</td>\n",
       "      <td>1</td>\n",
       "      <td>1</td>\n",
       "      <td>10</td>\n",
       "      <td>1</td>\n",
       "      <td>1</td>\n",
       "      <td>1</td>\n",
       "      <td>1</td>\n",
       "      <td>14</td>\n",
       "      <td>5</td>\n",
       "      <td>...</td>\n",
       "      <td>0</td>\n",
       "      <td>6</td>\n",
       "      <td>14</td>\n",
       "      <td>2</td>\n",
       "      <td>13.500000</td>\n",
       "      <td>0</td>\n",
       "      <td>8.9</td>\n",
       "      <td>1.4</td>\n",
       "      <td>3.51</td>\n",
       "      <td>Dropout</td>\n",
       "    </tr>\n",
       "  </tbody>\n",
       "</table>\n",
       "<p>10 rows × 35 columns</p>\n",
       "</div>"
      ],
      "text/plain": [
       "   Marital status  Application mode  Application order  Course  \\\n",
       "0               1                 8                  5       2   \n",
       "1               1                 6                  1      11   \n",
       "2               1                 1                  5       5   \n",
       "3               1                 8                  2      15   \n",
       "4               2                12                  1       3   \n",
       "5               2                12                  1      17   \n",
       "6               1                 1                  1      12   \n",
       "7               1                 9                  4      11   \n",
       "8               1                 1                  3      10   \n",
       "9               1                 1                  1      10   \n",
       "\n",
       "   Daytime/evening attendance  Previous qualification  Nacionality  \\\n",
       "0                           1                       1            1   \n",
       "1                           1                       1            1   \n",
       "2                           1                       1            1   \n",
       "3                           1                       1            1   \n",
       "4                           0                       1            1   \n",
       "5                           0                      12            1   \n",
       "6                           1                       1            1   \n",
       "7                           1                       1            1   \n",
       "8                           1                       1           15   \n",
       "9                           1                       1            1   \n",
       "\n",
       "   Mother's qualification  Father's qualification  Mother's occupation  ...  \\\n",
       "0                      13                      10                    6  ...   \n",
       "1                       1                       3                    4  ...   \n",
       "2                      22                      27                   10  ...   \n",
       "3                      23                      27                    6  ...   \n",
       "4                      22                      28                   10  ...   \n",
       "5                      22                      27                   10  ...   \n",
       "6                      13                      28                    8  ...   \n",
       "7                      22                      27                   10  ...   \n",
       "8                       1                       1                   10  ...   \n",
       "9                       1                      14                    5  ...   \n",
       "\n",
       "   Curricular units 2nd sem (credited)  Curricular units 2nd sem (enrolled)  \\\n",
       "0                                    0                                    0   \n",
       "1                                    0                                    6   \n",
       "2                                    0                                    6   \n",
       "3                                    0                                    6   \n",
       "4                                    0                                    6   \n",
       "5                                    0                                    5   \n",
       "6                                    0                                    8   \n",
       "7                                    0                                    5   \n",
       "8                                    0                                    6   \n",
       "9                                    0                                    6   \n",
       "\n",
       "   Curricular units 2nd sem (evaluations)  \\\n",
       "0                                       0   \n",
       "1                                       6   \n",
       "2                                       0   \n",
       "3                                      10   \n",
       "4                                       6   \n",
       "5                                      17   \n",
       "6                                       8   \n",
       "7                                       5   \n",
       "8                                       7   \n",
       "9                                      14   \n",
       "\n",
       "   Curricular units 2nd sem (approved)  Curricular units 2nd sem (grade)  \\\n",
       "0                                    0                          0.000000   \n",
       "1                                    6                         13.666667   \n",
       "2                                    0                          0.000000   \n",
       "3                                    5                         12.400000   \n",
       "4                                    6                         13.000000   \n",
       "5                                    5                         11.500000   \n",
       "6                                    8                         14.345000   \n",
       "7                                    0                          0.000000   \n",
       "8                                    6                         14.142857   \n",
       "9                                    2                         13.500000   \n",
       "\n",
       "   Curricular units 2nd sem (without evaluations)  Unemployment rate  \\\n",
       "0                                               0               10.8   \n",
       "1                                               0               13.9   \n",
       "2                                               0               10.8   \n",
       "3                                               0                9.4   \n",
       "4                                               0               13.9   \n",
       "5                                               5               16.2   \n",
       "6                                               0               15.5   \n",
       "7                                               0               15.5   \n",
       "8                                               0               16.2   \n",
       "9                                               0                8.9   \n",
       "\n",
       "   Inflation rate   GDP    Target  \n",
       "0             1.4  1.74   Dropout  \n",
       "1            -0.3  0.79  Graduate  \n",
       "2             1.4  1.74   Dropout  \n",
       "3            -0.8 -3.12  Graduate  \n",
       "4            -0.3  0.79  Graduate  \n",
       "5             0.3 -0.92  Graduate  \n",
       "6             2.8 -4.06  Graduate  \n",
       "7             2.8 -4.06   Dropout  \n",
       "8             0.3 -0.92  Graduate  \n",
       "9             1.4  3.51   Dropout  \n",
       "\n",
       "[10 rows x 35 columns]"
      ]
     },
     "execution_count": 4,
     "metadata": {},
     "output_type": "execute_result"
    }
   ],
   "source": [
    "data.head(10)"
   ]
  },
  {
   "cell_type": "code",
   "execution_count": 5,
   "id": "e215c9eb",
   "metadata": {
    "execution": {
     "iopub.execute_input": "2023-09-04T17:53:07.904701Z",
     "iopub.status.busy": "2023-09-04T17:53:07.904327Z",
     "iopub.status.idle": "2023-09-04T17:53:07.909755Z",
     "shell.execute_reply": "2023-09-04T17:53:07.908530Z"
    },
    "papermill": {
     "duration": 0.038405,
     "end_time": "2023-09-04T17:53:07.912185",
     "exception": false,
     "start_time": "2023-09-04T17:53:07.873780",
     "status": "completed"
    },
    "tags": []
   },
   "outputs": [],
   "source": [
    "labels = data[\"Target\"]"
   ]
  },
  {
   "cell_type": "code",
   "execution_count": 6,
   "id": "f845bad6",
   "metadata": {
    "execution": {
     "iopub.execute_input": "2023-09-04T17:53:07.971040Z",
     "iopub.status.busy": "2023-09-04T17:53:07.970600Z",
     "iopub.status.idle": "2023-09-04T17:53:07.984639Z",
     "shell.execute_reply": "2023-09-04T17:53:07.983387Z"
    },
    "papermill": {
     "duration": 0.047041,
     "end_time": "2023-09-04T17:53:07.987569",
     "exception": false,
     "start_time": "2023-09-04T17:53:07.940528",
     "status": "completed"
    },
    "tags": []
   },
   "outputs": [],
   "source": [
    "from tqdm import tqdm\n",
    "tqdm.pandas()"
   ]
  },
  {
   "cell_type": "code",
   "execution_count": 7,
   "id": "f5fba5bf",
   "metadata": {
    "execution": {
     "iopub.execute_input": "2023-09-04T17:53:08.047127Z",
     "iopub.status.busy": "2023-09-04T17:53:08.046314Z",
     "iopub.status.idle": "2023-09-04T17:53:08.065381Z",
     "shell.execute_reply": "2023-09-04T17:53:08.064153Z"
    },
    "papermill": {
     "duration": 0.051958,
     "end_time": "2023-09-04T17:53:08.068071",
     "exception": false,
     "start_time": "2023-09-04T17:53:08.016113",
     "status": "completed"
    },
    "tags": []
   },
   "outputs": [
    {
     "data": {
      "text/plain": [
       "Target\n",
       "Graduate    2209\n",
       "Dropout     1421\n",
       "Enrolled     794\n",
       "Name: count, dtype: int64"
      ]
     },
     "execution_count": 7,
     "metadata": {},
     "output_type": "execute_result"
    }
   ],
   "source": [
    "labels.value_counts()"
   ]
  },
  {
   "cell_type": "code",
   "execution_count": 8,
   "id": "812a02ed",
   "metadata": {
    "execution": {
     "iopub.execute_input": "2023-09-04T17:53:08.128538Z",
     "iopub.status.busy": "2023-09-04T17:53:08.127683Z",
     "iopub.status.idle": "2023-09-04T17:53:08.164375Z",
     "shell.execute_reply": "2023-09-04T17:53:08.163126Z"
    },
    "papermill": {
     "duration": 0.070626,
     "end_time": "2023-09-04T17:53:08.167500",
     "exception": false,
     "start_time": "2023-09-04T17:53:08.096874",
     "status": "completed"
    },
    "tags": []
   },
   "outputs": [
    {
     "name": "stderr",
     "output_type": "stream",
     "text": [
      "100%|██████████| 4424/4424 [00:00<00:00, 316599.85it/s]\n"
     ]
    },
    {
     "data": {
      "text/plain": [
       "Target\n",
       "1    2209\n",
       "0    1421\n",
       "2     794\n",
       "Name: count, dtype: int64"
      ]
     },
     "execution_count": 8,
     "metadata": {},
     "output_type": "execute_result"
    }
   ],
   "source": [
    "num_labels = labels\n",
    "\n",
    "def integ(x):\n",
    "    if x == \"Dropout\":\n",
    "        return 0\n",
    "    if x == \"Graduate\":\n",
    "        return 1\n",
    "    if x == \"Enrolled\":\n",
    "        return 2\n",
    "\n",
    "tokenized_data = num_labels.progress_apply(lambda x: integ(x))\n",
    "\n",
    "#tokenized_data = tokenized_data[tokenized_data.str.len() >= context_length+1]\n",
    "\n",
    "#tokenized_data = tokenized_data.reset_index(drop=True)\n",
    "\n",
    "\n",
    "tokenized_data.value_counts()\n"
   ]
  },
  {
   "cell_type": "code",
   "execution_count": 9,
   "id": "521010d3",
   "metadata": {
    "execution": {
     "iopub.execute_input": "2023-09-04T17:53:08.228882Z",
     "iopub.status.busy": "2023-09-04T17:53:08.228060Z",
     "iopub.status.idle": "2023-09-04T17:53:08.249685Z",
     "shell.execute_reply": "2023-09-04T17:53:08.248465Z"
    },
    "papermill": {
     "duration": 0.055802,
     "end_time": "2023-09-04T17:53:08.252471",
     "exception": false,
     "start_time": "2023-09-04T17:53:08.196669",
     "status": "completed"
    },
    "tags": []
   },
   "outputs": [],
   "source": [
    "features = data\n",
    "\n",
    "features = features.drop(\"Target\", axis=1)\n",
    "\n",
    "features = np.array(features)"
   ]
  },
  {
   "cell_type": "code",
   "execution_count": 10,
   "id": "980c42b1",
   "metadata": {
    "execution": {
     "iopub.execute_input": "2023-09-04T17:53:08.314498Z",
     "iopub.status.busy": "2023-09-04T17:53:08.313625Z",
     "iopub.status.idle": "2023-09-04T17:53:08.319124Z",
     "shell.execute_reply": "2023-09-04T17:53:08.318132Z"
    },
    "papermill": {
     "duration": 0.039287,
     "end_time": "2023-09-04T17:53:08.321791",
     "exception": false,
     "start_time": "2023-09-04T17:53:08.282504",
     "status": "completed"
    },
    "tags": []
   },
   "outputs": [],
   "source": [
    "cat_labels = np.array(tokenized_data)"
   ]
  },
  {
   "cell_type": "code",
   "execution_count": 11,
   "id": "2eba3832",
   "metadata": {
    "execution": {
     "iopub.execute_input": "2023-09-04T17:53:08.623531Z",
     "iopub.status.busy": "2023-09-04T17:53:08.623141Z",
     "iopub.status.idle": "2023-09-04T17:53:08.629977Z",
     "shell.execute_reply": "2023-09-04T17:53:08.628904Z"
    },
    "papermill": {
     "duration": 0.281754,
     "end_time": "2023-09-04T17:53:08.633264",
     "exception": false,
     "start_time": "2023-09-04T17:53:08.351510",
     "status": "completed"
    },
    "tags": []
   },
   "outputs": [
    {
     "name": "stdout",
     "output_type": "stream",
     "text": [
      "[[ 1.    8.    5.   ... 10.8   1.4   1.74]\n",
      " [ 1.    6.    1.   ... 13.9  -0.3   0.79]\n",
      " [ 1.    1.    5.   ... 10.8   1.4   1.74]\n",
      " ...\n",
      " [ 1.    1.    1.   ... 13.9  -0.3   0.79]\n",
      " [ 1.    1.    1.   ...  9.4  -0.8  -3.12]\n",
      " [ 1.    5.    1.   ... 12.7   3.7  -1.7 ]]\n",
      "[0 1 0 ... 0 1 1]\n"
     ]
    }
   ],
   "source": [
    "print(features)\n",
    "print(cat_labels)"
   ]
  },
  {
   "cell_type": "code",
   "execution_count": 12,
   "id": "f7529da9",
   "metadata": {
    "execution": {
     "iopub.execute_input": "2023-09-04T17:53:08.695946Z",
     "iopub.status.busy": "2023-09-04T17:53:08.695117Z",
     "iopub.status.idle": "2023-09-04T17:53:08.872266Z",
     "shell.execute_reply": "2023-09-04T17:53:08.870585Z"
    },
    "papermill": {
     "duration": 0.211088,
     "end_time": "2023-09-04T17:53:08.874771",
     "exception": false,
     "start_time": "2023-09-04T17:53:08.663683",
     "status": "completed"
    },
    "tags": []
   },
   "outputs": [
    {
     "name": "stdout",
     "output_type": "stream",
     "text": [
      "Model: \"model\"\n",
      "_________________________________________________________________\n",
      " Layer (type)                Output Shape              Param #   \n",
      "=================================================================\n",
      " input_1 (InputLayer)        [(None, 34)]              0         \n",
      "                                                                 \n",
      " dense (Dense)               (None, 128)               4480      \n",
      "                                                                 \n",
      " dense_1 (Dense)             (None, 128)               16512     \n",
      "                                                                 \n",
      " dense_2 (Dense)             (None, 128)               16512     \n",
      "                                                                 \n",
      " dense_3 (Dense)             (None, 3)                 387       \n",
      "                                                                 \n",
      "=================================================================\n",
      "Total params: 37891 (148.01 KB)\n",
      "Trainable params: 37891 (148.01 KB)\n",
      "Non-trainable params: 0 (0.00 Byte)\n",
      "_________________________________________________________________\n"
     ]
    }
   ],
   "source": [
    "input_layer = tf.keras.layers.Input(shape=features.shape[1:])\n",
    "\n",
    "dense1 = tf.keras.layers.Dense(128, activation=\"relu\")(input_layer)\n",
    "dense2 = tf.keras.layers.Dense(128, activation=\"relu\")(dense1)\n",
    "dense3 = tf.keras.layers.Dense(128, activation=\"relu\")(dense2)\n",
    "\n",
    "dense_out=tf.keras.layers.Dense(3,activation=\"softmax\")(dense3)\n",
    "\n",
    "model=tf.keras.Model(inputs=[input_layer],outputs=[dense_out])\n",
    "\n",
    "model.summary()\n"
   ]
  },
  {
   "cell_type": "code",
   "execution_count": 13,
   "id": "2801aac5",
   "metadata": {
    "execution": {
     "iopub.execute_input": "2023-09-04T17:53:08.939609Z",
     "iopub.status.busy": "2023-09-04T17:53:08.938588Z",
     "iopub.status.idle": "2023-09-04T17:53:08.963950Z",
     "shell.execute_reply": "2023-09-04T17:53:08.962905Z"
    },
    "papermill": {
     "duration": 0.06092,
     "end_time": "2023-09-04T17:53:08.967026",
     "exception": false,
     "start_time": "2023-09-04T17:53:08.906106",
     "status": "completed"
    },
    "tags": []
   },
   "outputs": [],
   "source": [
    "\n",
    "optim = tf.keras.optimizers.Lion()\n",
    "#optim = tf.keras.optimizers.Adam()\n",
    "\n",
    "loss = tf.keras.losses.sparse_categorical_crossentropy\n",
    "\n",
    "metrics = [tf.keras.metrics.SparseCategoricalAccuracy()]\n",
    "\n",
    "model.compile(optimizer=optim, loss=loss, metrics=metrics)"
   ]
  },
  {
   "cell_type": "code",
   "execution_count": 14,
   "id": "313075dd",
   "metadata": {
    "execution": {
     "iopub.execute_input": "2023-09-04T17:53:09.044565Z",
     "iopub.status.busy": "2023-09-04T17:53:09.044139Z",
     "iopub.status.idle": "2023-09-04T17:53:09.051110Z",
     "shell.execute_reply": "2023-09-04T17:53:09.049912Z"
    },
    "papermill": {
     "duration": 0.049861,
     "end_time": "2023-09-04T17:53:09.053998",
     "exception": false,
     "start_time": "2023-09-04T17:53:09.004137",
     "status": "completed"
    },
    "tags": []
   },
   "outputs": [
    {
     "name": "stdout",
     "output_type": "stream",
     "text": [
      "[ 1.          6.          1.         11.          1.          1.\n",
      "  1.          1.          3.          4.          4.          1.\n",
      "  0.          0.          0.          1.          0.         19.\n",
      "  0.          0.          6.          6.          6.         14.\n",
      "  0.          0.          6.          6.          6.         13.66666667\n",
      "  0.         13.9        -0.3         0.79      ]\n",
      "1\n"
     ]
    }
   ],
   "source": [
    "print(features[1])\n",
    "print(cat_labels[1])"
   ]
  },
  {
   "cell_type": "code",
   "execution_count": 15,
   "id": "f50dd989",
   "metadata": {
    "execution": {
     "iopub.execute_input": "2023-09-04T17:53:09.121755Z",
     "iopub.status.busy": "2023-09-04T17:53:09.121369Z",
     "iopub.status.idle": "2023-09-04T17:53:22.364371Z",
     "shell.execute_reply": "2023-09-04T17:53:22.363057Z"
    },
    "papermill": {
     "duration": 13.28071,
     "end_time": "2023-09-04T17:53:22.367156",
     "exception": false,
     "start_time": "2023-09-04T17:53:09.086446",
     "status": "completed"
    },
    "tags": []
   },
   "outputs": [
    {
     "name": "stdout",
     "output_type": "stream",
     "text": [
      "Epoch 1/100\n",
      "111/111 [==============================] - 1s 6ms/step - loss: 1.2292 - sparse_categorical_accuracy: 0.5606 - val_loss: 0.7807 - val_sparse_categorical_accuracy: 0.6633\n",
      "Epoch 2/100\n",
      "111/111 [==============================] - 0s 3ms/step - loss: 0.7038 - sparse_categorical_accuracy: 0.7087 - val_loss: 0.6984 - val_sparse_categorical_accuracy: 0.7073\n",
      "Epoch 3/100\n",
      "111/111 [==============================] - 0s 3ms/step - loss: 0.6391 - sparse_categorical_accuracy: 0.7310 - val_loss: 0.6525 - val_sparse_categorical_accuracy: 0.7175\n",
      "Epoch 4/100\n",
      "111/111 [==============================] - 0s 3ms/step - loss: 0.6089 - sparse_categorical_accuracy: 0.7434 - val_loss: 0.6446 - val_sparse_categorical_accuracy: 0.7333\n",
      "Epoch 5/100\n",
      "111/111 [==============================] - 0s 4ms/step - loss: 0.5818 - sparse_categorical_accuracy: 0.7593 - val_loss: 0.6207 - val_sparse_categorical_accuracy: 0.7345\n",
      "Epoch 6/100\n",
      "111/111 [==============================] - 0s 3ms/step - loss: 0.5614 - sparse_categorical_accuracy: 0.7717 - val_loss: 0.6149 - val_sparse_categorical_accuracy: 0.7424\n",
      "Epoch 7/100\n",
      "111/111 [==============================] - 0s 3ms/step - loss: 0.5532 - sparse_categorical_accuracy: 0.7728 - val_loss: 0.6243 - val_sparse_categorical_accuracy: 0.7514\n",
      "Epoch 8/100\n",
      "111/111 [==============================] - 0s 4ms/step - loss: 0.5395 - sparse_categorical_accuracy: 0.7858 - val_loss: 0.6073 - val_sparse_categorical_accuracy: 0.7367\n",
      "Epoch 9/100\n",
      "111/111 [==============================] - 0s 4ms/step - loss: 0.5273 - sparse_categorical_accuracy: 0.7895 - val_loss: 0.6481 - val_sparse_categorical_accuracy: 0.7367\n",
      "Epoch 10/100\n",
      "111/111 [==============================] - 1s 6ms/step - loss: 0.5168 - sparse_categorical_accuracy: 0.7926 - val_loss: 0.6037 - val_sparse_categorical_accuracy: 0.7571\n",
      "Epoch 11/100\n",
      "111/111 [==============================] - 1s 7ms/step - loss: 0.5083 - sparse_categorical_accuracy: 0.8031 - val_loss: 0.6145 - val_sparse_categorical_accuracy: 0.7424\n",
      "Epoch 12/100\n",
      "111/111 [==============================] - 1s 6ms/step - loss: 0.5024 - sparse_categorical_accuracy: 0.8019 - val_loss: 0.6084 - val_sparse_categorical_accuracy: 0.7548\n",
      "Epoch 13/100\n",
      "111/111 [==============================] - 0s 4ms/step - loss: 0.4889 - sparse_categorical_accuracy: 0.8093 - val_loss: 0.6118 - val_sparse_categorical_accuracy: 0.7503\n",
      "Epoch 14/100\n",
      "111/111 [==============================] - 0s 3ms/step - loss: 0.4837 - sparse_categorical_accuracy: 0.8087 - val_loss: 0.6199 - val_sparse_categorical_accuracy: 0.7435\n",
      "Epoch 15/100\n",
      "111/111 [==============================] - 0s 3ms/step - loss: 0.4752 - sparse_categorical_accuracy: 0.8118 - val_loss: 0.6336 - val_sparse_categorical_accuracy: 0.7424\n",
      "Epoch 16/100\n",
      "111/111 [==============================] - 0s 3ms/step - loss: 0.4633 - sparse_categorical_accuracy: 0.8194 - val_loss: 0.6261 - val_sparse_categorical_accuracy: 0.7559\n",
      "Epoch 17/100\n",
      "111/111 [==============================] - 0s 4ms/step - loss: 0.4547 - sparse_categorical_accuracy: 0.8248 - val_loss: 0.6289 - val_sparse_categorical_accuracy: 0.7458\n",
      "Epoch 18/100\n",
      "111/111 [==============================] - 0s 4ms/step - loss: 0.4478 - sparse_categorical_accuracy: 0.8237 - val_loss: 0.6412 - val_sparse_categorical_accuracy: 0.7492\n",
      "Epoch 19/100\n",
      "111/111 [==============================] - 0s 3ms/step - loss: 0.4382 - sparse_categorical_accuracy: 0.8271 - val_loss: 0.6459 - val_sparse_categorical_accuracy: 0.7379\n",
      "Epoch 20/100\n",
      "111/111 [==============================] - 0s 3ms/step - loss: 0.4305 - sparse_categorical_accuracy: 0.8296 - val_loss: 0.6608 - val_sparse_categorical_accuracy: 0.7458\n",
      "Epoch 21/100\n",
      "111/111 [==============================] - 0s 3ms/step - loss: 0.4222 - sparse_categorical_accuracy: 0.8336 - val_loss: 0.6733 - val_sparse_categorical_accuracy: 0.7582\n",
      "Epoch 22/100\n",
      "111/111 [==============================] - 0s 4ms/step - loss: 0.4155 - sparse_categorical_accuracy: 0.8404 - val_loss: 0.6740 - val_sparse_categorical_accuracy: 0.7458\n",
      "Epoch 23/100\n",
      "111/111 [==============================] - 0s 3ms/step - loss: 0.4074 - sparse_categorical_accuracy: 0.8474 - val_loss: 0.7106 - val_sparse_categorical_accuracy: 0.7435\n",
      "Epoch 24/100\n",
      "111/111 [==============================] - 0s 3ms/step - loss: 0.3967 - sparse_categorical_accuracy: 0.8457 - val_loss: 0.6872 - val_sparse_categorical_accuracy: 0.7424\n",
      "Epoch 25/100\n",
      "111/111 [==============================] - 0s 3ms/step - loss: 0.3887 - sparse_categorical_accuracy: 0.8494 - val_loss: 0.6951 - val_sparse_categorical_accuracy: 0.7469\n",
      "Epoch 26/100\n",
      "111/111 [==============================] - 0s 3ms/step - loss: 0.3826 - sparse_categorical_accuracy: 0.8536 - val_loss: 0.7555 - val_sparse_categorical_accuracy: 0.7379\n",
      "Epoch 27/100\n",
      "111/111 [==============================] - 0s 3ms/step - loss: 0.3747 - sparse_categorical_accuracy: 0.8531 - val_loss: 0.7115 - val_sparse_categorical_accuracy: 0.7446\n",
      "Epoch 28/100\n",
      "111/111 [==============================] - 0s 3ms/step - loss: 0.3641 - sparse_categorical_accuracy: 0.8607 - val_loss: 0.7867 - val_sparse_categorical_accuracy: 0.7446\n",
      "Epoch 29/100\n",
      "111/111 [==============================] - 0s 3ms/step - loss: 0.3609 - sparse_categorical_accuracy: 0.8655 - val_loss: 0.7556 - val_sparse_categorical_accuracy: 0.7424\n",
      "Epoch 30/100\n",
      "111/111 [==============================] - 0s 3ms/step - loss: 0.3539 - sparse_categorical_accuracy: 0.8647 - val_loss: 0.7891 - val_sparse_categorical_accuracy: 0.7345\n"
     ]
    },
    {
     "data": {
      "text/plain": [
       "<keras.src.callbacks.History at 0x7f2df875ca30>"
      ]
     },
     "execution_count": 15,
     "metadata": {},
     "output_type": "execute_result"
    }
   ],
   "source": [
    "callbacks = tf.keras.callbacks.EarlyStopping(patience=20,restore_best_weights=True)\n",
    "\n",
    "model.fit(features, cat_labels, validation_split=0.2, epochs=100, callbacks=callbacks)"
   ]
  },
  {
   "cell_type": "code",
   "execution_count": 16,
   "id": "43d8e558",
   "metadata": {
    "execution": {
     "iopub.execute_input": "2023-09-04T17:53:22.480259Z",
     "iopub.status.busy": "2023-09-04T17:53:22.479845Z",
     "iopub.status.idle": "2023-09-04T17:53:25.935688Z",
     "shell.execute_reply": "2023-09-04T17:53:25.934299Z"
    },
    "papermill": {
     "duration": 3.51503,
     "end_time": "2023-09-04T17:53:25.939019",
     "exception": false,
     "start_time": "2023-09-04T17:53:22.423989",
     "status": "completed"
    },
    "tags": []
   },
   "outputs": [
    {
     "name": "stdout",
     "output_type": "stream",
     "text": [
      "predicted: Dropout\n",
      "actual: Enrolled\n",
      "[ 1.   15.    1.    8.    1.   14.    1.   13.   14.    6.    6.    1.\n",
      "  0.    1.    0.    0.    0.   20.    0.    1.    6.   11.    3.   12.\n",
      "  0.    0.    6.   11.    2.   11.    0.   12.4   0.5   1.79]\n",
      "\n",
      "\n",
      "\n",
      "\n",
      "predicted: Dropout\n",
      "actual: Enrolled\n",
      "[ 1.    8.    1.   14.    1.    1.    1.    1.    1.    5.    5.    0.\n",
      "  0.    0.    1.    1.    0.   19.    0.    0.    5.   10.    0.    0.\n",
      "  0.    0.    5.    5.    0.    0.    0.    7.6   2.6   0.32]\n",
      "\n",
      "\n",
      "\n",
      "\n",
      "predicted: Enrolled\n",
      "actual: Dropout\n",
      "[ 1.    1.    1.    8.    1.    1.    1.    1.    1.   10.   10.    0.\n",
      "  0.    0.    0.    1.    0.   18.    0.    0.    6.    8.    5.   11.6\n",
      "  0.    0.    6.   11.    4.   13.    0.    8.9   1.4   3.51]\n",
      "\n",
      "\n",
      "\n",
      "\n",
      "predicted: Graduated\n",
      "actual: Enrolled\n",
      "[ 1.          1.          1.          3.          0.          1.\n",
      "  1.          3.          1.          3.         10.          1.\n",
      "  0.          0.          1.          1.          0.         26.\n",
      "  0.          0.          6.          6.          6.         11.83333333\n",
      "  0.          0.          6.          6.          6.         11.66666667\n",
      "  0.         10.8         1.4         1.74      ]\n",
      "\n",
      "\n",
      "\n",
      "\n",
      "predicted: Enrolled\n",
      "actual: Dropout\n",
      "[ 1.          1.          1.         10.          1.          1.\n",
      "  1.         13.         28.         10.         10.          0.\n",
      "  0.          0.          1.          1.          0.         19.\n",
      "  0.          0.          6.         10.          5.         11.57142857\n",
      "  0.          0.          6.         10.          3.         13.\n",
      "  0.         16.2         0.3        -0.92      ]\n",
      "\n",
      "\n",
      "\n",
      "\n",
      "predicted: Graduated\n",
      "actual: Enrolled\n",
      "[ 1.    1.    2.   12.    1.    1.    1.   23.   14.   10.    8.    1.\n",
      "  0.    0.    1.    0.    1.   20.    0.    0.    7.   10.    5.   12.62\n",
      "  0.    0.    7.    8.    6.   12.5   0.   11.1   0.6   2.02]\n",
      "\n",
      "\n",
      "\n",
      "\n",
      "predicted: Graduated\n",
      "actual: Dropout\n",
      "[ 2.   12.    1.   17.    0.    1.    1.   22.   10.   10.   10.    0.\n",
      "  0.    1.    1.    1.    0.   35.    0.    0.    5.    6.    5.   10.8\n",
      "  0.    0.    5.    7.    5.   12.    2.    9.4  -0.8  -3.12]\n",
      "\n",
      "\n",
      "\n",
      "\n",
      "predicted: Graduated\n",
      "actual: Dropout\n",
      "[ 1.          1.          1.         10.          1.          1.\n",
      "  1.          1.         14.          5.          4.          1.\n",
      "  0.          0.          1.          1.          0.         22.\n",
      "  0.          0.          6.          6.          6.         12.66666667\n",
      "  0.          0.          6.          6.          6.         13.83333333\n",
      "  0.         10.8         1.4         1.74      ]\n",
      "\n",
      "\n",
      "\n",
      "\n",
      "predicted: Graduated\n",
      "actual: Dropout\n",
      "[ 1.          8.          2.         11.          1.          1.\n",
      "  1.         22.         27.         10.          9.          1.\n",
      "  0.          1.          0.          0.          0.         20.\n",
      "  0.          0.          6.          8.          4.         11.75\n",
      "  0.          0.          6.          6.          6.         13.16666667\n",
      "  0.         11.1         0.6         2.02      ]\n",
      "\n",
      "\n",
      "\n",
      "\n",
      "predicted: Dropout\n",
      "actual: Enrolled\n",
      "[ 1.    8.    2.   10.    1.    1.    1.    2.    1.    4.    5.    1.\n",
      "  0.    0.    1.    0.    0.   19.    0.    0.    6.   14.    1.   11.5\n",
      "  0.    0.    6.   12.    2.   10.5   0.    7.6   2.6   0.32]\n",
      "\n",
      "\n",
      "\n",
      "\n",
      "predicted: Enrolled\n",
      "actual: Dropout\n",
      "[ 1.    8.    5.    7.    1.    1.    1.   13.   27.   10.    8.    1.\n",
      "  0.    0.    1.    1.    1.   19.    0.    0.    5.    9.    5.   12.6\n",
      "  0.    0.    5.    8.    2.   12.5   0.    8.9   1.4   3.51]\n",
      "\n",
      "\n",
      "\n",
      "\n"
     ]
    }
   ],
   "source": [
    "list_of_numbers = np.random.randint(0,len(features),size=(50))\n",
    "for number in list_of_numbers:\n",
    "    prediction = model.predict(np.expand_dims(features[number], axis=0), verbose=0)\n",
    "    prediction = np.argmax(prediction)\n",
    "\n",
    "    def integr(x):\n",
    "        if x == 0:\n",
    "            return \"Dropout\"\n",
    "        if x == 1:\n",
    "            return \"Graduated\"\n",
    "        if x == 2:\n",
    "            return \"Enrolled\"\n",
    "\n",
    "    \n",
    "    \n",
    "    if integr(prediction) != integr(cat_labels[number]):\n",
    "        print(f\"predicted: {integr(prediction)}\")\n",
    "        print(f\"actual: {integr(cat_labels[number])}\")\n",
    "        print(features[number])\n",
    "        print(\"\\n\\n\\n\")"
   ]
  },
  {
   "cell_type": "code",
   "execution_count": 17,
   "id": "a547c918",
   "metadata": {
    "execution": {
     "iopub.execute_input": "2023-09-04T17:53:26.052883Z",
     "iopub.status.busy": "2023-09-04T17:53:26.052440Z",
     "iopub.status.idle": "2023-09-04T17:53:29.327568Z",
     "shell.execute_reply": "2023-09-04T17:53:29.326337Z"
    },
    "papermill": {
     "duration": 3.334696,
     "end_time": "2023-09-04T17:53:29.330109",
     "exception": false,
     "start_time": "2023-09-04T17:53:25.995413",
     "status": "completed"
    },
    "tags": []
   },
   "outputs": [],
   "source": [
    "list_of_numbers = np.random.randint(0,len(features),size=(50))\n",
    "\n",
    "for number in list_of_numbers:\n",
    "    prediction = model.predict(np.expand_dims(features[number], axis=0), verbose=0)\n",
    "    prediction = np.argmax(prediction)\n",
    "\n",
    "    def integr(x):\n",
    "        if x == 0:\n",
    "            return \"Dropout\"\n",
    "        if x == 1:\n",
    "            return \"Graduated\"\n",
    "        if x == 2:\n",
    "            return \"Enrolled\"\n",
    "\n",
    "    \n",
    "    \n",
    "    if integr(prediction) == \"Dropout\" and integr(cat_labels[number]) == \"Enrolled\":\n",
    "        print(f\"predicted: {integr(prediction)}\")\n",
    "        print(f\"actual: {integr(cat_labels[number])}\")\n",
    "        print(features[number])\n",
    "        print(\"\\n\\n\\n\")"
   ]
  },
  {
   "cell_type": "code",
   "execution_count": 18,
   "id": "0e66d34e",
   "metadata": {
    "execution": {
     "iopub.execute_input": "2023-09-04T17:53:29.442121Z",
     "iopub.status.busy": "2023-09-04T17:53:29.441670Z",
     "iopub.status.idle": "2023-09-04T17:53:54.618068Z",
     "shell.execute_reply": "2023-09-04T17:53:54.616862Z"
    },
    "papermill": {
     "duration": 25.236426,
     "end_time": "2023-09-04T17:53:54.621302",
     "exception": false,
     "start_time": "2023-09-04T17:53:29.384876",
     "status": "completed"
    },
    "tags": []
   },
   "outputs": [
    {
     "data": {
      "image/png": "[encoded data removed]",
      "text/plain": [
       "<Figure size 1000x500 with 2 Axes>"
      ]
     },
     "metadata": {},
     "output_type": "display_data"
    }
   ],
   "source": [
    "import numpy as np\n",
    "import matplotlib.pyplot as plt\n",
    "from sklearn.decomposition import PCA\n",
    "from sklearn.manifold import TSNE\n",
    "\n",
    "\n",
    "tsne = TSNE(n_components=2, random_state=42)\n",
    "reduced_features_tsne = tsne.fit_transform(features)\n",
    "\n",
    "plt.figure(figsize=(10, 5))\n",
    "plt.scatter(reduced_features_tsne[:, 0], reduced_features_tsne[:, 1], c=cat_labels, cmap='jet')\n",
    "plt.title(\"t-SNE\")\n",
    "plt.colorbar()\n",
    "plt.show()\n"
   ]
  }
 ],
 "kernelspec": {
  "display_name": "Python 3",
  "language": "python",
  "name": "python3"
 },
 "language_info": {
  "codemirror_mode": {
   "name": "ipython",
   "version": 3
  },
  "file_extension": ".py",
  "mimetype": "text/x-python",
  "name": "python",
  "nbconvert_exporter": "python",
  "pygments_lexer": "ipython3",
  "version": "3.6.4"
 },
 "metadata": {
  "kernelspec": {
   "display_name": "Python 3",
   "language": "python",
   "name": "python3"
  },
  "language_info": {
   "codemirror_mode": {
    "name": "ipython",
    "version": 3
   },
   "file_extension": ".py",
   "mimetype": "text/x-python",
   "name": "python",
   "nbconvert_exporter": "python",
   "pygments_lexer": "ipython3",
   "version": "3.10.12"
  },
  "papermill": {
   "default_parameters": {},
   "duration": 158.27004,
   "end_time": "2023-09-04T17:53:56.310512",
   "environment_variables": {},
   "exception": null,
   "input_path": "__notebook__.ipynb",
   "output_path": "__notebook__.ipynb",
   "parameters": {},
   "start_time": "2023-09-04T17:51:18.040472",
   "version": "2.4.0"
  }
 },
 "nbformat": 4,
 "nbformat_minor": 5
}
